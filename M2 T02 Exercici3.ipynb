{
 "cells": [
  {
   "cell_type": "code",
   "execution_count": 19,
   "metadata": {},
   "outputs": [
    {
     "name": "stderr",
     "output_type": "stream",
     "text": [
      "<ipython-input-19-0da011979892>:10: ParserWarning: Falling back to the 'python' engine because the 'c' engine does not support regex separators (separators > 1 char and different from '\\s+' are interpreted as regex); you can avoid this warning by specifying engine='python'.\n",
      "  df = pd.read_csv('movies.dat', sep='::',names=[\"index\",\"nom\",\"tipus\"])\n"
     ]
    },
    {
     "name": "stdout",
     "output_type": "stream",
     "text": [
      "index     int64\n",
      "nom      object\n",
      "tipus    object\n",
      "dtype: object\n",
      "index     int64\n",
      "nom      object\n",
      "tipus    object\n",
      "dtype: object\n"
     ]
    },
    {
     "name": "stderr",
     "output_type": "stream",
     "text": [
      "C:\\Users\\mcarm\\anaconda3\\lib\\site-packages\\pandas\\core\\generic.py:3887: PerformanceWarning: dropping on a non-lexsorted multi-index without a level parameter may impact performance.\n",
      "  obj = obj._drop_axis(labels, axis, level=level, errors=errors)\n"
     ]
    },
    {
     "data": {
      "image/png": "[encoded data removed]",
      "text/plain": [
       "<Figure size 432x288 with 1 Axes>"
      ]
     },
     "metadata": {
      "needs_background": "light"
     },
     "output_type": "display_data"
    },
    {
     "data": {
      "image/png": "[encoded data removed]",
      "text/plain": [
       "<Figure size 432x288 with 1 Axes>"
      ]
     },
     "metadata": {
      "needs_background": "light"
     },
     "output_type": "display_data"
    }
   ],
   "source": [
    "# importing libraries\n",
    "import numpy as np\n",
    "import pandas as pd\n",
    "import matplotlib.pyplot as plt\n",
    "import seaborn as sns\n",
    "import warnings\n",
    "\n",
    "\n",
    "#la serpació en aquest cas són els ::\n",
    "df = pd.read_csv('movies.dat', sep='::',names=[\"index\",\"nom\",\"tipus\"])\n",
    "print(df.dtypes)\n",
    "#canvio el camp tipus,de string a una llista treient el seperador |\n",
    "df['tipus'] = df.tipus.apply(lambda x: x.split('|'))\n",
    "print(df.dtypes)\n",
    "\n",
    "#per cada valor de la llistat de tipus, desplaguem en files\n",
    "tipus = df['tipus'].apply(pd.Series).reset_index().melt(id_vars='index').dropna()[['index', 'value']].set_index('index')\n",
    "#fem un merge per obtenir la taula original, i cada valor de tipus en una fila\n",
    "\n",
    "total=pd.merge(\n",
    "    tipus,\n",
    "    df[[\"nom\"]],\n",
    "    left_index=True,\n",
    "    right_index=True)\n",
    "\n",
    "\n",
    "#treiem l'any del nom per poder-ho treballar estadísticament\n",
    "total['any1'] = total.nom.str.extract('(\\(\\d\\d\\d\\d\\))',expand=False)\n",
    "total['any1'] = total.any1.str.extract('(\\d\\d\\d\\d)',expand=False)\n",
    "\n",
    "#renombro la columna value, per ser un nom de restringit \n",
    "total.rename(columns={'value': 'genere'}, inplace=True)\n",
    "\n",
    "#pivoto la taula perquè cada caracteristica sigui una columna a fi de poder treballar-hi estadísticament\n",
    "result = total.groupby(['nom', 'any1', 'genere']).size().to_frame('counts').reset_index().pivot_table(total, index = ['nom', 'any1'], columns=\"genere\", aggfunc = 'count').reset_index().fillna(0)\n",
    "\n",
    "\n",
    "#treiem totals de tipus de pelicules per any\n",
    "result1 = result.groupby(['any1']).sum()\n",
    "#-------------------------------------------------------\n",
    "#- Exercici 3\n",
    "#Mostreu la vostra creativitat. Què creieu rellevant mostrar del dataset \"movies.dat\" del exercici anterior? Feu una o dues representacions gràfiques i justifiqueu la seva elecció.\n",
    "#Hi ha molt poques dades numeriques per analitzar, per tan només podem fer gràfiques de numero de linies duna determinada agrupació\n",
    "\n",
    "result.groupby('any1').size().plot(kind='bar');\n",
    "plt.title(\"Grafica numero de pelicules per any\")\n",
    "plt.show()\n",
    "\n",
    "# selecionem pelicules del 1999\n",
    "rslt_df = total[total['any1'].isin(['1999'])]\n",
    "                 \n",
    "rslt_df.groupby('genere').size().plot(kind='bar')\n",
    "plt.title(\"Grafica pelicules del 1999 per genere\")\n",
    "plt.show()"
   ]
  },
  {
   "cell_type": "code",
   "execution_count": null,
   "metadata": {
    "ExecuteTime": {
     "end_time": "2021-01-20T16:38:30.788682Z",
     "start_time": "2021-01-20T16:38:30.780704Z"
    }
   },
   "outputs": [],
   "source": []
  },
  {
   "cell_type": "code",
   "execution_count": null,
   "metadata": {},
   "outputs": [],
   "source": []
  }
 ],
 "metadata": {
  "kernelspec": {
   "display_name": "Python 3",
   "language": "python",
   "name": "python3"
  },
  "language_info": {
   "codemirror_mode": {
    "name": "ipython",
    "version": 3
   },
   "file_extension": ".py",
   "mimetype": "text/x-python",
   "name": "python",
   "nbconvert_exporter": "python",
   "pygments_lexer": "ipython3",
   "version": "3.8.5"
  },
  "toc": {
   "base_numbering": 1,
   "nav_menu": {},
   "number_sections": true,
   "sideBar": true,
   "skip_h1_title": false,
   "title_cell": "Table of Contents",
   "title_sidebar": "Contents",
   "toc_cell": false,
   "toc_position": {
    "height": "calc(100% - 180px)",
    "left": "10px",
    "top": "150px",
    "width": "417.458px"
   },
   "toc_section_display": true,
   "toc_window_display": false
  },
  "varInspector": {
   "cols": {
    "lenName": 16,
    "lenType": 16,
    "lenVar": 40
   },
   "kernels_config": {
    "python": {
     "delete_cmd_postfix": "",
     "delete_cmd_prefix": "del ",
     "library": "var_list.py",
     "varRefreshCmd": "print(var_dic_list())"
    },
    "r": {
     "delete_cmd_postfix": ") ",
     "delete_cmd_prefix": "rm(",
     "library": "var_list.r",
     "varRefreshCmd": "cat(var_dic_list()) "
    }
   },
   "types_to_exclude": [
    "module",
    "function",
    "builtin_function_or_method",
    "instance",
    "_Feature"
   ],
   "window_display": false
  }
 },
 "nbformat": 4,
 "nbformat_minor": 2
}
